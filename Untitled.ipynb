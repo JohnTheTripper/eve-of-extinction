{
 "cells": [
  {
   "cell_type": "markdown",
   "metadata": {},
   "source": [
    "# Data Cleaning and EDA"
   ]
  },
  {
   "cell_type": "markdown",
   "metadata": {},
   "source": [
    "### Import packages"
   ]
  },
  {
   "cell_type": "code",
   "execution_count": 277,
   "metadata": {},
   "outputs": [],
   "source": [
    "import pandas as pd\n",
    "pd.set_option('display.max_columns', None)\n",
    "import numpy as np\n",
    "import seaborn as sns\n",
    "import statsmodels.api as sm\n",
    "import matplotlib.pyplot as plt\n",
    "from sklearn.preprocessing import StandardScaler, MinMaxScaler\n",
    "from sklearn.linear_model import LogisticRegression\n",
    "from sklearn.model_selection import train_test_split, GridSearchCV\n",
    "from sklearn.metrics import confusion_matrix, mean_squared_error, r2_score\n",
    "from sklearn.tree import DecisionTreeClassifier\n",
    "from sklearn.neighbors import KNeighborsClassifier\n",
    "from sklearn.ensemble import RandomForestClassifier, BaggingClassifier, AdaBoostClassifier, GradientBoostingClassifier\n",
    "import scipy.stats as stats\n",
    "import pickle"
   ]
  },
  {
   "cell_type": "markdown",
   "metadata": {},
   "source": [
    "## Data Cleaning"
   ]
  },
  {
   "cell_type": "code",
   "execution_count": 259,
   "metadata": {},
   "outputs": [],
   "source": [
    "pd.set_option('display.max_columns', None)"
   ]
  },
  {
   "cell_type": "code",
   "execution_count": 336,
   "metadata": {},
   "outputs": [],
   "source": [
    "countries = {\n",
    "    'Argentina' : {'commitment_rating' : 1, '2016_emissions' : 482.08,\n",
    "                   'Forest Land Area Index' : 0.78},\n",
    "    'Brazil' : {'commitment_rating' : 2, '2016_emissions' : 1379.38, \n",
    "                  'Forest Land Area Index' : 0.90},\n",
    "    'Australia' : {'commitment_rating' : 2, '2016_emissions' : 584.85,\n",
    "                   'Forest Land Area Index' : 0.97},\n",
    "    'Canada' : {'commitment_rating' : 2, '2016_emissions' : 779.27,\n",
    "                   'Forest Land Area Index' : 0.99},\n",
    "    'China' : {'commitment_rating' : 1, '2016_emissions' : 11886.86,\n",
    "                   'Forest Land Area Index' : 1.33},\n",
    "    'Germany' : {'commitment_rating' : 1, '2016_emissions' : 848.76,\n",
    "                   'Forest Land Area Index' : 1.01},\n",
    "    'Japan' : {'commitment_rating' : 1, '2016_emissions' : 1263.87,\n",
    "                   'Forest Land Area Index' : 1.00},\n",
    "    'Nepal' : {'commitment_rating' : 'NaN', '2016_emissions' : 61.25,\n",
    "                   'Forest Land Area Index' : 0.75},\n",
    "    'Norway' : {'commitment_rating' : 2, '2016_emissions' : 46.76,\n",
    "                   'Forest Land Area Index' : 1.00},\n",
    "    'Switzerland' : {'commitment_rating' : 2, '2016_emissions' : 48.26,\n",
    "                   'Forest Land Area Index' : 1.09},\n",
    "    'UK' : {'commitment_rating' : 2, '2016_emissions' : 474.31,\n",
    "                   'Forest Land Area Index' : 1.13}\n",
    "}"
   ]
  },
  {
   "cell_type": "code",
   "execution_count": 355,
   "metadata": {},
   "outputs": [],
   "source": [
    "df = pd.read_csv('finaldataset.csv')"
   ]
  },
  {
   "cell_type": "code",
   "execution_count": 356,
   "metadata": {},
   "outputs": [
    {
     "data": {
      "text/plain": [
       "(9757, 14)"
      ]
     },
     "execution_count": 356,
     "metadata": {},
     "output_type": "execute_result"
    }
   ],
   "source": [
    "df.shape"
   ]
  },
  {
   "cell_type": "code",
   "execution_count": 357,
   "metadata": {},
   "outputs": [],
   "source": [
    "df_eda = df.drop(['family', 'year', 'criteria', 'justification', 'assessors', 'affil', 'order', 'kingdom'], axis=1)"
   ]
  },
  {
   "cell_type": "code",
   "execution_count": 358,
   "metadata": {},
   "outputs": [],
   "source": [
    "df_eda = df_eda.loc[(df_eda['reg_stat'] == 'Data Deficient') | (df_eda['reg_stat'] == 'Vulnerable') |\n",
    "           (df_eda['reg_stat'] == 'Least Concern') | (df_eda['reg_stat'] == 'Endangered') | \n",
    "           (df_eda['reg_stat'] == 'Near Threatened') | (df_eda['reg_stat'] == 'Critically Endangered') | \n",
    "           (df_eda['reg_stat'] == 'Extinct') | (df_eda['reg_stat'] == 'Regionally Extinct')]"
   ]
  },
  {
   "cell_type": "code",
   "execution_count": 359,
   "metadata": {},
   "outputs": [],
   "source": [
    "df_eda['reg_stat'].replace(['Data Deficient ', 'Vulnerable', 'Least Concern', 'Endangered', 'Near Threatened',\n",
    "                           'Critically Endangered', 'Extinct', 'Regionally Extinct'],\n",
    "                           ['DD',2,0,3,1,4,5,5],inplace=True)"
   ]
  },
  {
   "cell_type": "code",
   "execution_count": 360,
   "metadata": {},
   "outputs": [],
   "source": [
    "df_eda.rename(columns={'c_lass':'class'},inplace=True)"
   ]
  },
  {
   "cell_type": "code",
   "execution_count": 361,
   "metadata": {},
   "outputs": [],
   "source": [
    "df_eda = df_eda[df_eda['reg_stat'] != 'Data Deficient']"
   ]
  },
  {
   "cell_type": "code",
   "execution_count": 362,
   "metadata": {},
   "outputs": [],
   "source": [
    "s = df_eda['class'].value_counts()\n",
    "df_eda = df_eda[df_eda.isin(s.index[s >= 50]).values]"
   ]
  },
  {
   "cell_type": "code",
   "execution_count": 363,
   "metadata": {},
   "outputs": [
    {
     "data": {
      "text/plain": [
       "Aves              1774\n",
       "Actinopterygii    1485\n",
       "Mammalia          1261\n",
       "Amphibia           640\n",
       "Reptilia           625\n",
       "Insecta            228\n",
       "Elasmobranchii      99\n",
       "Arachnida           65\n",
       "Gastropoda          53\n",
       "Name: class, dtype: int64"
      ]
     },
     "execution_count": 363,
     "metadata": {},
     "output_type": "execute_result"
    }
   ],
   "source": [
    "df_eda['class'].value_counts()"
   ]
  },
  {
   "cell_type": "code",
   "execution_count": 364,
   "metadata": {},
   "outputs": [
    {
     "data": {
      "text/plain": [
       "Chordata      5884\n",
       "Arthropoda     293\n",
       "Mollusca        53\n",
       "Name: phylum, dtype: int64"
      ]
     },
     "execution_count": 364,
     "metadata": {},
     "output_type": "execute_result"
    }
   ],
   "source": [
    "df_eda['phylum'].value_counts()"
   ]
  },
  {
   "cell_type": "code",
   "execution_count": 365,
   "metadata": {},
   "outputs": [],
   "source": [
    "df_eda['commitment_rating'] = 0\n",
    "df_eda['2016_emissions'] = 0\n",
    "df_eda['Forest Land Area Index'] = 0\n",
    "for country in countries:\n",
    "    condition = df_eda['country'] == country\n",
    "    df_eda.loc[condition, 'commitment_rating'] = countries[country]['commitment_rating']\n",
    "    df_eda.loc[condition, '2016_emissions'] = countries[country]['2016_emissions']\n",
    "    df_eda.loc[condition, 'Forest Land Area Index'] = countries[country]['Forest Land Area Index']"
   ]
  },
  {
   "cell_type": "code",
   "execution_count": 371,
   "metadata": {},
   "outputs": [
    {
     "data": {
      "text/html": [
       "<div>\n",
       "<style scoped>\n",
       "    .dataframe tbody tr th:only-of-type {\n",
       "        vertical-align: middle;\n",
       "    }\n",
       "\n",
       "    .dataframe tbody tr th {\n",
       "        vertical-align: top;\n",
       "    }\n",
       "\n",
       "    .dataframe thead th {\n",
       "        text-align: right;\n",
       "    }\n",
       "</style>\n",
       "<table border=\"1\" class=\"dataframe\">\n",
       "  <thead>\n",
       "    <tr style=\"text-align: right;\">\n",
       "      <th></th>\n",
       "      <th>country</th>\n",
       "      <th>phylum</th>\n",
       "      <th>class</th>\n",
       "      <th>genus</th>\n",
       "      <th>species</th>\n",
       "      <th>reg_stat</th>\n",
       "      <th>commitment_rating</th>\n",
       "      <th>2016_emissions</th>\n",
       "      <th>Forest Land Area Index</th>\n",
       "    </tr>\n",
       "  </thead>\n",
       "  <tbody>\n",
       "    <tr>\n",
       "      <td>0</td>\n",
       "      <td>Brazil</td>\n",
       "      <td>Chordata</td>\n",
       "      <td>Aves</td>\n",
       "      <td>Anodorhynchus</td>\n",
       "      <td>glaucus</td>\n",
       "      <td>5</td>\n",
       "      <td>2</td>\n",
       "      <td>1379.38</td>\n",
       "      <td>0.9</td>\n",
       "    </tr>\n",
       "    <tr>\n",
       "      <td>1</td>\n",
       "      <td>Brazil</td>\n",
       "      <td>Chordata</td>\n",
       "      <td>Elasmobranchii</td>\n",
       "      <td>Carcharhinus</td>\n",
       "      <td>isodon</td>\n",
       "      <td>5</td>\n",
       "      <td>2</td>\n",
       "      <td>1379.38</td>\n",
       "      <td>0.9</td>\n",
       "    </tr>\n",
       "    <tr>\n",
       "      <td>2</td>\n",
       "      <td>Brazil</td>\n",
       "      <td>Chordata</td>\n",
       "      <td>Aves</td>\n",
       "      <td>Cichlocolaptes</td>\n",
       "      <td>mazarbarnetti</td>\n",
       "      <td>5</td>\n",
       "      <td>2</td>\n",
       "      <td>1379.38</td>\n",
       "      <td>0.9</td>\n",
       "    </tr>\n",
       "    <tr>\n",
       "      <td>3</td>\n",
       "      <td>Brazil</td>\n",
       "      <td>Chordata</td>\n",
       "      <td>Aves</td>\n",
       "      <td>Glaucidium</td>\n",
       "      <td>mooreorum</td>\n",
       "      <td>5</td>\n",
       "      <td>2</td>\n",
       "      <td>1379.38</td>\n",
       "      <td>0.9</td>\n",
       "    </tr>\n",
       "    <tr>\n",
       "      <td>4</td>\n",
       "      <td>Brazil</td>\n",
       "      <td>Chordata</td>\n",
       "      <td>Mammalia</td>\n",
       "      <td>Noronhomys</td>\n",
       "      <td>vespuccii</td>\n",
       "      <td>5</td>\n",
       "      <td>2</td>\n",
       "      <td>1379.38</td>\n",
       "      <td>0.9</td>\n",
       "    </tr>\n",
       "  </tbody>\n",
       "</table>\n",
       "</div>"
      ],
      "text/plain": [
       "  country    phylum           class           genus        species reg_stat  \\\n",
       "0  Brazil  Chordata            Aves   Anodorhynchus        glaucus        5   \n",
       "1  Brazil  Chordata  Elasmobranchii    Carcharhinus         isodon        5   \n",
       "2  Brazil  Chordata            Aves  Cichlocolaptes  mazarbarnetti        5   \n",
       "3  Brazil  Chordata            Aves      Glaucidium      mooreorum        5   \n",
       "4  Brazil  Chordata        Mammalia      Noronhomys      vespuccii        5   \n",
       "\n",
       "   commitment_rating  2016_emissions  Forest Land Area Index  \n",
       "0                  2         1379.38                     0.9  \n",
       "1                  2         1379.38                     0.9  \n",
       "2                  2         1379.38                     0.9  \n",
       "3                  2         1379.38                     0.9  \n",
       "4                  2         1379.38                     0.9  "
      ]
     },
     "execution_count": 371,
     "metadata": {},
     "output_type": "execute_result"
    }
   ],
   "source": [
    "df_eda.head()"
   ]
  },
  {
   "cell_type": "markdown",
   "metadata": {},
   "source": [
    "## EDA"
   ]
  },
  {
   "cell_type": "code",
   "execution_count": 388,
   "metadata": {},
   "outputs": [
    {
     "data": {
      "image/png": "[encoded data removed]",
      "text/plain": [
       "<Figure size 720x576 with 4 Axes>"
      ]
     },
     "metadata": {
      "needs_background": "light"
     },
     "output_type": "display_data"
    }
   ],
   "source": [
    "fig, ((ax1, ax2), (ax3, ax4)) = plt.subplots(nrows=2, ncols=2, figsize=(10,8))\n",
    "\n",
    "fig.tight_layout()\n",
    "\n",
    "ax1.hist(df_eda['country'], edgecolor = 'darkgrey', color ='lightgreen')\n",
    "ax1.set_title('country')\n",
    "\n",
    "ax2.scatter(y = df_eda['2016_emissions'], x= df_eda['country'], color ='moccasin')\n",
    "ax2.set_title('2016_emisions')\n",
    "\n",
    "ax3.hist(df_eda['Forest Land Area Index'], edgecolor = 'darkgrey', color ='mediumturquoise')\n",
    "ax3.set_title('Forest Land Area Index')\n",
    "\n",
    "ax4.hist(df_eda['reg_stat'], edgecolor = 'darkgrey', color ='slateblue')\n",
    "ax4.set_title('reg_stat')\n",
    "\n",
    "# ax5.hist(df_eda['commitment_rating'], edgecolor = 'darkgrey', color ='lightgreen')\n",
    "# ax5.set_title('commitment rating')\n",
    "\n",
    "# ax6.hist(df_eda['2016_emissions'], edgecolor = 'darkgrey', color ='moccasin')\n",
    "# ax6.set_title('2016 emissions')\n",
    "# ax6.xaxis.set_ticks(np.arange(100000, 1000000, 200000))\n",
    "\n",
    "# ax7.hist(df_eda['Forest Land Area Index'], bins=3, edgecolor = 'darkgrey', color ='mediumturquoise')\n",
    "# ax7.set_title('Forest Land Area Index')\n",
    "# ax7.xaxis.set_ticks(np.arange(0, 4, 1))\n",
    "\n",
    "plt.show()"
   ]
  },
  {
   "cell_type": "code",
   "execution_count": 367,
   "metadata": {},
   "outputs": [
    {
     "data": {
      "text/plain": [
       "0    0.373194\n",
       "2    0.204815\n",
       "3    0.152648\n",
       "1    0.138042\n",
       "4    0.114125\n",
       "5    0.017175\n",
       "Name: reg_stat, dtype: float64"
      ]
     },
     "execution_count": 367,
     "metadata": {},
     "output_type": "execute_result"
    }
   ],
   "source": [
    "df_eda['reg_stat'].value_counts(normalize=True)"
   ]
  },
  {
   "cell_type": "code",
   "execution_count": 369,
   "metadata": {},
   "outputs": [
    {
     "data": {
      "text/plain": [
       "China        3092\n",
       "Brazil       1380\n",
       "Argentina     815\n",
       "Canada        498\n",
       "Australia     445\n",
       "Name: country, dtype: int64"
      ]
     },
     "execution_count": 369,
     "metadata": {},
     "output_type": "execute_result"
    }
   ],
   "source": [
    "df_eda.country.value_counts()"
   ]
  },
  {
   "cell_type": "markdown",
   "metadata": {},
   "source": [
    "norway(248), switzerland(81), UK(75) still needed"
   ]
  },
  {
   "cell_type": "code",
   "execution_count": 391,
   "metadata": {},
   "outputs": [],
   "source": [
    "df_eda.to_csv('final_df.csv')"
   ]
  },
  {
   "cell_type": "code",
   "execution_count": null,
   "metadata": {},
   "outputs": [],
   "source": []
  }
 ],
 "metadata": {
  "kernelspec": {
   "display_name": "Python 3",
   "language": "python",
   "name": "python3"
  },
  "language_info": {
   "codemirror_mode": {
    "name": "ipython",
    "version": 3
   },
   "file_extension": ".py",
   "mimetype": "text/x-python",
   "name": "python",
   "nbconvert_exporter": "python",
   "pygments_lexer": "ipython3",
   "version": "3.7.4"
  }
 },
 "nbformat": 4,
 "nbformat_minor": 2
}
